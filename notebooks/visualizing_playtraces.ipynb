{
 "cells": [
  {
   "cell_type": "markdown",
   "metadata": {},
   "source": [
    "# Intro "
   ]
  },
  {
   "cell_type": "markdown",
   "metadata": {},
   "source": [
    "In this notebook I try to pass to the gvgai gym a level, a playtrace and a seed, and see if I can get a nice replay visualization."
   ]
  },
  {
   "cell_type": "code",
   "execution_count": 1,
   "metadata": {},
   "outputs": [],
   "source": [
    "import gym\n",
    "import gym_gvgai"
   ]
  },
  {
   "cell_type": "code",
   "execution_count": 2,
   "metadata": {},
   "outputs": [
    {
     "data": {
      "text/plain": [
       "'/Users/migd/Projects/GVGAI_GYM-master/gym_gvgai/__init__.py'"
      ]
     },
     "execution_count": 2,
     "metadata": {},
     "output_type": "execute_result"
    }
   ],
   "source": [
    "gym_gvgai.__file__"
   ]
  },
  {
   "cell_type": "markdown",
   "metadata": {},
   "source": [
    "for now, I'll manually copy the level that I find interesting. If this works, I could implement a whole function and so on."
   ]
  },
  {
   "cell_type": "code",
   "execution_count": 3,
   "metadata": {},
   "outputs": [],
   "source": [
    "import matplotlib.pyplot as plt\n",
    "from IPython import display"
   ]
  },
  {
   "cell_type": "code",
   "execution_count": 4,
   "metadata": {},
   "outputs": [],
   "source": [
    "def show_state(env, step=0, score=\"\"):\n",
    "    plt.figure()\n",
    "    plt.clf()\n",
    "    plt.imshow(env.render(mode=\"rgb_array\"))\n",
    "    \n",
    "    plt.title(f\"step: {step}, score: {score}\")\n",
    "    plt.axis(\"off\")\n",
    "    \n",
    "    display.clear_output(wait=True)\n",
    "    display.display(plt.gcf())\n",
    "    plt.close()"
   ]
  },
  {
   "cell_type": "code",
   "execution_count": 5,
   "metadata": {},
   "outputs": [],
   "source": [
    "from gym.envs.registration import registry, register, make, spec"
   ]
  },
  {
   "cell_type": "code",
   "execution_count": 6,
   "metadata": {},
   "outputs": [],
   "source": [
    "from shutil import copyfile"
   ]
  },
  {
   "cell_type": "code",
   "execution_count": 11,
   "metadata": {},
   "outputs": [],
   "source": [
    "def replay(playtrace_path, level_path):\n",
    "    # Register the level using gym with the appropiate seed\n",
    "    with open(playtrace_path) as fp:\n",
    "        playtrace = fp.readlines()\n",
    "    seed, _, _, steps = playtrace.pop(0).split(\" \")\n",
    "    print(seed, steps)\n",
    "    \n",
    "    ## Registering the level\n",
    "    copyfile(\n",
    "        level_path,\n",
    "        \"/Users/migd/Projects/GVGAI_GYM-master/gym_gvgai/envs/games/zelda_v1/zelda_lvl4.txt\"\n",
    "    )\n",
    "    env_id = f'gvgai-zelda-lvl4-v1'\n",
    "    if env_id in gym.envs.registry.env_specs:\n",
    "        del gym.envs.registry.env_specs[env_id]\n",
    "\n",
    "    register(\n",
    "        id=env_id,\n",
    "        entry_point='gym_gvgai.envs.gvgai_env:GVGAI_Env',\n",
    "        kwargs={'game': \"zelda\", 'level': 4, 'version': 1, \"random_seed\": seed},\n",
    "        max_episode_steps=2000\n",
    "        #nondeterministic=nondeterministic,\n",
    "        #Play with different setups here\n",
    "    )\n",
    "    \n",
    "    ## building the environment\n",
    "    env = gym.make(env_id)\n",
    "    env.reset()\n",
    "\n",
    "    # play said playtrace and show the video.\n",
    "    for i, line in enumerate(playtrace):\n",
    "        show_state(env, step=i)\n",
    "        action = line.replace(\"\\n\", \"\")\n",
    "        action_id = env.unwrapped.get_action_meanings().index(action)\n",
    "        env.step(action_id)"
   ]
  },
  {
   "cell_type": "code",
   "execution_count": 12,
   "metadata": {},
   "outputs": [],
   "source": [
    "playtrace_path = \"/Users/migd/Projects/ITAE_First_Test_paper/code/2020_02_26_experiments/zelda/zelda_experiments/playtraces/1583778779_178242_olets_10_gens_50_iter_100_init_40_roll_17_seed_playtrace_seed_94.txt\""
   ]
  },
  {
   "cell_type": "code",
   "execution_count": 13,
   "metadata": {},
   "outputs": [],
   "source": [
    "level_path = \"/Users/migd/Projects/ITAE_First_Test_paper/code/2020_02_26_experiments/zelda/zelda_experiments/levels/1583778779_178242_olets_10_gens_50_iter_100_init_40_roll_17_seed_level.txt\""
   ]
  },
  {
   "cell_type": "code",
   "execution_count": 15,
   "metadata": {},
   "outputs": [
    {
     "data": {
      "image/png": "[encoded data removed]",
      "text/plain": [
       "<Figure size 432x288 with 1 Axes>"
      ]
     },
     "metadata": {},
     "output_type": "display_data"
    }
   ],
   "source": [
    "replay(playtrace_path, level_path)"
   ]
  },
  {
   "cell_type": "code",
   "execution_count": null,
   "metadata": {},
   "outputs": [],
   "source": []
  }
 ],
 "metadata": {
  "kernelspec": {
   "display_name": "Python 3.6.9 64-bit ('ITAE_paper': conda)",
   "language": "python",
   "name": "python36964bititaepaperconda37bb80e6a30a4bcfbe0d809ba40ade1e"
  },
  "language_info": {
   "codemirror_mode": {
    "name": "ipython",
    "version": 3
   },
   "file_extension": ".py",
   "mimetype": "text/x-python",
   "name": "python",
   "nbconvert_exporter": "python",
   "pygments_lexer": "ipython3",
   "version": "3.6.9"
  }
 },
 "nbformat": 4,
 "nbformat_minor": 2
}
